{
 "cells": [
  {
   "cell_type": "code",
   "execution_count": 219,
   "metadata": {},
   "outputs": [],
   "source": [
    "import pandas as pd\n",
    "import numpy as np \n",
    "from bs4 import BeautifulSoup\n",
    "import requests\n",
    "import datetime \n",
    "import time\n",
    "import pytz\n",
    "import os"
   ]
  },
  {
   "cell_type": "code",
   "execution_count": 220,
   "metadata": {},
   "outputs": [
    {
     "name": "stdout",
     "output_type": "stream",
     "text": [
      "The autoreload extension is already loaded. To reload it, use:\n",
      "  %reload_ext autoreload\n"
     ]
    }
   ],
   "source": [
    "%load_ext autoreload\n",
    "%autoreload 2"
   ]
  },
  {
   "cell_type": "code",
   "execution_count": null,
   "metadata": {},
   "outputs": [],
   "source": [
    "last_cats = cat_history_df[last_mask]['name'].unique()\n",
    "this_cats = cat_history_df[this_mask]['name'].unique()\n",
    "\n",
    "diff = [x for x in this_cats if x not in last_cats]\n",
    "print(diff) "
   ]
  },
  {
   "attachments": {},
   "cell_type": "markdown",
   "metadata": {},
   "source": [
    "### Testing Foster List Data Collection"
   ]
  },
  {
   "cell_type": "code",
   "execution_count": 62,
   "metadata": {},
   "outputs": [],
   "source": [
    "import sys\n",
    "sys.path.insert(1, '../src')\n",
    "from cafe_cats import *\n",
    "from foster_cats import *\n",
    "import re\n",
    "from utilities import *"
   ]
  },
  {
   "attachments": {},
   "cell_type": "markdown",
   "metadata": {},
   "source": [
    "### Create old and New Files"
   ]
  },
  {
   "cell_type": "code",
   "execution_count": 166,
   "metadata": {},
   "outputs": [],
   "source": [
    "df = getFosterInfo()"
   ]
  },
  {
   "cell_type": "code",
   "execution_count": 108,
   "metadata": {},
   "outputs": [],
   "source": [
    "#make copy for edits\n",
    "new_df = df.copy()\n",
    "\n",
    "#changes to fields in existing rows\n",
    "new_df.loc[3, 'cat_summary'] = 'test test test'\n",
    "new_df.loc[7, 'cat_description'] = 'test test test'\n",
    "\n",
    "#cat gets reserved\n",
    "new_df.loc[9, 'cat_name'] = new_df.loc[9, 'cat_name'] + ' (reserved)'\n",
    "\n",
    "#cat removed from foster list \n",
    "new_df.drop(12, inplace=True)\n",
    "\n",
    "#cat added to list \n",
    "new_row = {\n",
    "    'cat_id':['test-cat'],\n",
    "    'cat_name':['test cat'],\n",
    "    'cat_summary':['test'],\n",
    "    'cat_timing':['test'],\n",
    "    'cat_description':['test'],\n",
    "    'cat_image':['test'],\n",
    "    'cat_link':['test'],\n",
    "    'import_at':[datetime.fromtimestamp(int(time.time()), tz=pytz.utc)]\n",
    "}\n",
    "new_row_df = pd.DataFrame(new_row)\n",
    "new_df = pd.concat([new_df, new_row_df])\n"
   ]
  },
  {
   "cell_type": "code",
   "execution_count": 109,
   "metadata": {},
   "outputs": [],
   "source": [
    "new_df.to_csv('../output/foster_cats_test_new.csv', index=False)"
   ]
  },
  {
   "attachments": {},
   "cell_type": "markdown",
   "metadata": {},
   "source": [
    "### Compare Files"
   ]
  },
  {
   "cell_type": "code",
   "execution_count": 73,
   "metadata": {},
   "outputs": [],
   "source": [
    "old_df = pd.read_csv('../output/foster_cats_test_old.csv')\n",
    "new_df = pd.read_csv('../output/foster_cats_test_new.csv')"
   ]
  },
  {
   "cell_type": "code",
   "execution_count": 160,
   "metadata": {},
   "outputs": [],
   "source": [
    "# merge dfs and compare\n",
    "compare_df = pd.merge(old_df, new_df, how='outer', on='cat_id', suffixes=['_old','_new'])\n",
    "loop_cols = [t for t in old_df.columns if 'cat_id' not in t and 'import_at' not in t]\n",
    "\n",
    "for col in loop_cols:\n",
    "    col_compare_df = compare_df[[c for c in compare_df.columns if col in c]]\n",
    "    compare_df[f'was_{col}_modified'] = (col_compare_df[f'{col}_old'] != col_compare_df[f'{col}_new'])\n",
    "\n",
    "# discard rows where nothing was changed\n",
    "compare_df['was_modified'] = compare_df[[col for col in compare_df.columns \\\n",
    "                                        if 'was_' in col]].any(axis=1)\n",
    "compare_df = compare_df[compare_df['was_modified'] == True]\n",
    "\n",
    "# distinguish adds, deletions, modifications\n",
    "def determine_change(old_val, new_val):\n",
    "    if pd.isnull(old_val):\n",
    "        return 'row_added'\n",
    "    elif pd.isnull(new_val):\n",
    "        return 'row_deleted'\n",
    "    else:\n",
    "        return 'row_modified'\n",
    "\n",
    "compare_df['change_type'] = compare_df.apply(lambda x: determine_change(x['cat_name_old'], x['cat_name_new']), \n",
    "                                             axis=1)"
   ]
  },
  {
   "cell_type": "code",
   "execution_count": 179,
   "metadata": {},
   "outputs": [],
   "source": [
    "change_df = pd.read_csv('../output/foster_change_log.csv')"
   ]
  },
  {
   "cell_type": "code",
   "execution_count": 183,
   "metadata": {},
   "outputs": [
    {
     "name": "stdout",
     "output_type": "stream",
     "text": [
      "new cats added!\n"
     ]
    }
   ],
   "source": [
    "if change_df[change_df['change_type'] == 'row_added'].shape[0] > 0:\n",
    "    print('new cats added!')"
   ]
  },
  {
   "cell_type": "code",
   "execution_count": 194,
   "metadata": {},
   "outputs": [],
   "source": [
    "send_email(df, alert_message='change log test email', sender=my_username, password=my_password)"
   ]
  },
  {
   "cell_type": "code",
   "execution_count": 204,
   "metadata": {},
   "outputs": [],
   "source": [
    "from foster_cats import *"
   ]
  },
  {
   "cell_type": "code",
   "execution_count": 221,
   "metadata": {},
   "outputs": [
    {
     "name": "stdout",
     "output_type": "stream",
     "text": [
      "hi\n"
     ]
    }
   ],
   "source": [
    "# get last run + current run\n",
    "old_fosters_df = pd.read_csv('../src/data/latest_fosters.csv')\n",
    "new_fosters_df = getFosterInfo()\n",
    "\n",
    "# split out html info from current run to avoid clutter in .csv\n",
    "# we only need html for email alerts we might send \n",
    "new_fosters_write_df = new_fosters_df.drop(columns=['full_html'])\n",
    "\n",
    "# save current run as history for next comparison\n",
    "new_fosters_write_df.to_csv('../src/data/latest_fosters.csv', index=False)\n",
    "\n",
    "# compare new and old runs to determine changes\n",
    "changes_df = compare_snapshots(old_fosters_df, new_fosters_write_df)\n",
    "\n",
    "\n",
    "if changes_df.shape[0] > 0:\n",
    "    # logging.info('there have been changes since the last pipeline run')\n",
    "    # logging.info('summary of changes: ')\n",
    "    # logging.info(changes_df['change_type'].value_counts())\n",
    "    \n",
    "    # append changes to change history if it exists\n",
    "    path = '../output/foster_change_log.csv'\n",
    "    if os.path.exists(path):\n",
    "        old_changes_df = pd.read_csv(path)\n",
    "        changes_df = pd.concat([old_changes_df, changes_df])\n",
    "    changes_df.to_csv(path, index=False)\n",
    "    \n",
    "    # if there were rows added, trigger alert\n",
    "\n",
    "else:\n",
    "    # logging.info('no changes since previous pipeline run')\n",
    "    print('hi')"
   ]
  },
  {
   "cell_type": "code",
   "execution_count": 245,
   "metadata": {},
   "outputs": [],
   "source": [
    "recipients = pd.read_csv('../src/data/recipient_list.csv')"
   ]
  },
  {
   "cell_type": "code",
   "execution_count": 250,
   "metadata": {},
   "outputs": [],
   "source": [
    "recipient_list = \", \".join(recipients['email'].to_list())"
   ]
  },
  {
   "cell_type": "code",
   "execution_count": 252,
   "metadata": {},
   "outputs": [
    {
     "data": {
      "text/plain": [
       "(221,\n",
       " b'2.0.0 closing connection s20-20020a37a914000000b00741a984943fsm2351290qke.40 - gsmtp')"
      ]
     },
     "execution_count": 252,
     "metadata": {},
     "output_type": "execute_result"
    }
   ],
   "source": [
    "import smtplib\n",
    "from email.mime.text import MIMEText\n",
    "from configparser import ConfigParser\n",
    "\n",
    "parser = ConfigParser()\n",
    "_ = parser.read('../credentials.cfg')\n",
    "my_username = parser.get('my_email','my_username')\n",
    "my_password = parser.get('my_email','my_password')\n",
    "recipients = pd.read_csv('../src/data/recipient_list.csv')\n",
    "recipient_list = recipients['email'].to_list()\n",
    "\n",
    "sender_email = my_username\n",
    "sender_password = my_password\n",
    "\n",
    "subject = f\"{datetime.datetime.now().strftime('%Y-%m-%d %H:%M')}: [TEST] New foster cat alert! {new_fosters_df.loc[0]['cat_summary']}\"\n",
    "body = f'''\n",
    "    <html>\n",
    "        <body>\n",
    "        <h1> New cat alert! </h1>\n",
    "            {new_fosters_df.loc[0]['full_html']}\n",
    "        </body>\n",
    "    </html>\n",
    "    '''\n",
    "html_message = MIMEText(body, 'html')\n",
    "html_message['Subject'] = subject\n",
    "html_message['From'] = sender_email\n",
    "html_message['To'] = \", \".join(recipient_list)\n",
    "\n",
    "server = smtplib.SMTP_SSL('smtp.gmail.com', 465)\n",
    "server.login(sender_email, sender_password)\n",
    "server.sendmail(sender_email, recipient_list, html_message.as_string())\n",
    "server.quit()"
   ]
  },
  {
   "cell_type": "code",
   "execution_count": 231,
   "metadata": {},
   "outputs": [
    {
     "data": {
      "text/plain": [
       "0    Annie Oakley is a gentle and snuggly girl that...\n",
       "Name: cat_description, dtype: object"
      ]
     },
     "execution_count": 231,
     "metadata": {},
     "output_type": "execute_result"
    }
   ],
   "source": [
    "new_fosters_df"
   ]
  },
  {
   "cell_type": "code",
   "execution_count": 197,
   "metadata": {},
   "outputs": [
    {
     "ename": "AttributeError",
     "evalue": "module 'datetime' has no attribute 'now'",
     "output_type": "error",
     "traceback": [
      "\u001b[0;31m---------------------------------------------------------------------------\u001b[0m",
      "\u001b[0;31mAttributeError\u001b[0m                            Traceback (most recent call last)",
      "Cell \u001b[0;32mIn[197], line 20\u001b[0m\n\u001b[1;32m     10\u001b[0m body \u001b[39m=\u001b[39m \u001b[39m'''\u001b[39m\n\u001b[1;32m     11\u001b[0m \u001b[39m    <html>\u001b[39m\n\u001b[1;32m     12\u001b[0m \u001b[39m        <body>\u001b[39m\n\u001b[0;32m   (...)\u001b[0m\n\u001b[1;32m     16\u001b[0m \u001b[39m    </html>\u001b[39m\n\u001b[1;32m     17\u001b[0m \u001b[39m    \u001b[39m\u001b[39m'''\u001b[39m\n\u001b[1;32m     19\u001b[0m \u001b[39m# Generate today's date to be included in the email Subject\u001b[39;00m\n\u001b[0;32m---> 20\u001b[0m date_str \u001b[39m=\u001b[39m \u001b[39mstr\u001b[39m(datetime\u001b[39m.\u001b[39;49mnow())\n\u001b[1;32m     22\u001b[0m \u001b[39m# Create a MIMEMultipart class, and set up the From, To, Subject fields\u001b[39;00m\n\u001b[1;32m     23\u001b[0m email_message \u001b[39m=\u001b[39m MIMEMultipart()\n",
      "\u001b[0;31mAttributeError\u001b[0m: module 'datetime' has no attribute 'now'"
     ]
    }
   ],
   "source": [
    "from configparser import ConfigParser\n",
    "import ssl\n",
    "\n",
    "parser = ConfigParser()\n",
    "_ = parser.read('../credentials.cfg')\n",
    "my_username = parser.get('my_email','my_username')\n",
    "my_password = parser.get('my_email','my_password')\n",
    "\n",
    "# Define the HTML document\n",
    "body = '''\n",
    "    <html>\n",
    "        <body>\n",
    "            <h1>Daily S&P 500 prices report</h1>\n",
    "            <p>Hello, welcome to your report!</p>\n",
    "        </body>\n",
    "    </html>\n",
    "    '''\n",
    "\n",
    "# Generate today's date to be included in the email Subject\n",
    "date_str = str(datetime.datetime.now())\n",
    "\n",
    "# Create a MIMEMultipart class, and set up the From, To, Subject fields\n",
    "email_message = MIMEMultipart()\n",
    "email_message['From'] = my_username\n",
    "email_message['To'] = my_username\n",
    "email_message['Subject'] = f'Report email - {date_str}'\n",
    "\n",
    "# Attach the html doc defined earlier, as a MIMEText html content type to the MIME message\n",
    "email_message.attach(MIMEText(html, \"html\"))\n",
    "# Convert it as a string\n",
    "email_string = email_message.as_string()\n",
    "\n",
    "# Connect to the Gmail SMTP server and Send Email\n",
    "context = ssl.create_default_context()\n",
    "with smtplib.SMTP_SSL(\"smtp.gmail.com\", 465, context=context) as server:\n",
    "    server.login(my_username, my_password)\n",
    "    server.sendmail(my_username, my_password, email_string)"
   ]
  },
  {
   "cell_type": "code",
   "execution_count": null,
   "metadata": {},
   "outputs": [],
   "source": []
  },
  {
   "cell_type": "code",
   "execution_count": null,
   "metadata": {},
   "outputs": [],
   "source": []
  },
  {
   "attachments": {},
   "cell_type": "markdown",
   "metadata": {},
   "source": [
    "# Appendix (Scratch)"
   ]
  },
  {
   "cell_type": "code",
   "execution_count": null,
   "metadata": {},
   "outputs": [],
   "source": [
    "### first go to individual cat page and you can get the attributes via the below:\n",
    "\n",
    "cafe_prospect = cat_soup.find('div', class_='comp-kjevammt2 YzqVVZ')\n",
    "\n",
    "\n",
    "health_concerns = cat_soup.find('div', class_='comp-kjevamml YzqVVZ')\n",
    "\n",
    "\n",
    "upcoming_appointments = cat_soup.find('div', class_='comp-kjevammp3 YzqVVZ')\n",
    "\n"
   ]
  },
  {
   "cell_type": "code",
   "execution_count": null,
   "metadata": {},
   "outputs": [],
   "source": []
  },
  {
   "cell_type": "code",
   "execution_count": null,
   "metadata": {},
   "outputs": [],
   "source": []
  },
  {
   "cell_type": "code",
   "execution_count": null,
   "metadata": {},
   "outputs": [],
   "source": []
  },
  {
   "attachments": {},
   "cell_type": "markdown",
   "metadata": {},
   "source": [
    "## Create Change Log for Cafe Cats"
   ]
  },
  {
   "cell_type": "code",
   "execution_count": 3,
   "metadata": {},
   "outputs": [],
   "source": [
    "import sys\n",
    "sys.path.insert(1, '../src')\n",
    "from cafe_cats import *\n",
    "from foster_cats import *\n",
    "import re\n",
    "from utilities import *\n",
    "\n",
    "import pandas as pd\n",
    "import numpy as np \n",
    "from bs4 import BeautifulSoup\n",
    "import requests\n",
    "from datetime import datetime \n",
    "import time\n",
    "import pytz\n",
    "import os\n",
    "import logging"
   ]
  },
  {
   "cell_type": "code",
   "execution_count": 4,
   "metadata": {},
   "outputs": [
    {
     "name": "stdout",
     "output_type": "stream",
     "text": [
      "Getting summary...\n",
      "...done\n",
      "Getting cat filter data...\n",
      "Getting cafe_cat cats... \n",
      "Getting kid_approved cats... \n",
      "Getting dog_approved cats... \n",
      "Getting companion_cat cats... \n",
      "Getting bonded_pair cats... \n",
      "Getting single_cat cats... \n",
      "...done\n",
      "Getting individual cat info (descriptions, type)...\n",
      "...checking page for 125 cats...\n",
      "...checked 20 of 125 cat pages...\n",
      "...checked 40 of 125 cat pages...\n",
      "...checked 60 of 125 cat pages...\n",
      "...checked 80 of 125 cat pages...\n",
      "...checked 100 of 125 cat pages...\n",
      "...checked 120 of 125 cat pages...\n",
      "...done\n",
      "...retrieved latest cat data\n"
     ]
    }
   ],
   "source": [
    "url = 'https://catcafebk.com/our-cats/?'\n",
    "jobtime = datetime.fromtimestamp(int(time.time()), tz=pytz.utc)\n",
    "\n",
    "cat_df = get_latest_snapshot(url, jobtime)\n",
    "print('...retrieved latest cat data')\n",
    "\n",
    "#check if file exists and append\n",
    "if os.path.exists('cat_history.csv'):\n",
    "    print('...adding latest cat data to cat data history')\n",
    "    cat_history_df = pd.read_csv('cat_history.csv')\n",
    "    cat_history_df = pd.concat([cat_history_df, cat_df])\n",
    "    cat_history_df.to_csv('cat_history.csv', index=False)\n",
    "\n",
    "#otherwise create the file anew\n",
    "else:\n",
    "    cat_df.to_csv('cat_history.csv', index=False)"
   ]
  },
  {
   "cell_type": "code",
   "execution_count": 9,
   "metadata": {},
   "outputs": [
    {
     "name": "stdout",
     "output_type": "stream",
     "text": [
      "Getting summary...\n",
      "...done\n",
      "Getting cat filter data...\n",
      "Getting cafe_cat cats... \n",
      "Getting kid_approved cats... \n",
      "Getting dog_approved cats... \n",
      "Getting companion_cat cats... \n",
      "Getting bonded_pair cats... \n",
      "Getting single_cat cats... \n",
      "...done\n",
      "Getting individual cat info (descriptions, type)...\n",
      "...checking page for 125 cats...\n",
      "...checked 20 of 125 cat pages...\n",
      "...checked 40 of 125 cat pages...\n",
      "...checked 60 of 125 cat pages...\n",
      "...checked 80 of 125 cat pages...\n",
      "...checked 100 of 125 cat pages...\n",
      "...checked 120 of 125 cat pages...\n",
      "...done\n"
     ]
    }
   ],
   "source": [
    "cat_df_old = cat_df.copy()\n",
    "cat_df_new = get_latest_snapshot(url, jobtime = datetime.fromtimestamp(int(time.time()), tz=pytz.utc))"
   ]
  },
  {
   "cell_type": "code",
   "execution_count": null,
   "metadata": {},
   "outputs": [],
   "source": [
    "cat_df_old"
   ]
  }
 ],
 "metadata": {
  "kernelspec": {
   "display_name": "Python 3 (ipykernel)",
   "language": "python",
   "name": "python3"
  },
  "language_info": {
   "codemirror_mode": {
    "name": "ipython",
    "version": 3
   },
   "file_extension": ".py",
   "mimetype": "text/x-python",
   "name": "python",
   "nbconvert_exporter": "python",
   "pygments_lexer": "ipython3",
   "version": "3.10.8"
  },
  "vscode": {
   "interpreter": {
    "hash": "77dcab992c8848edfe732ffcf1ac6265e3ffed20d0d82e3175eeb9ff4576bd0a"
   }
  }
 },
 "nbformat": 4,
 "nbformat_minor": 4
}
