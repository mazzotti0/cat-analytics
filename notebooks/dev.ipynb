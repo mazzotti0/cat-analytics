{
 "cells": [
  {
   "cell_type": "code",
   "execution_count": 219,
   "metadata": {},
   "outputs": [],
   "source": [
    "import pandas as pd\n",
    "import numpy as np \n",
    "from bs4 import BeautifulSoup\n",
    "import requests\n",
    "import datetime \n",
    "import time\n",
    "import pytz\n",
    "import os"
   ]
  },
  {
   "cell_type": "code",
   "execution_count": 220,
   "metadata": {},
   "outputs": [
    {
     "name": "stdout",
     "output_type": "stream",
     "text": [
      "The autoreload extension is already loaded. To reload it, use:\n",
      "  %reload_ext autoreload\n"
     ]
    }
   ],
   "source": [
    "%load_ext autoreload\n",
    "%autoreload 2"
   ]
  },
  {
   "cell_type": "code",
   "execution_count": null,
   "metadata": {},
   "outputs": [],
   "source": [
    "last_cats = cat_history_df[last_mask]['name'].unique()\n",
    "this_cats = cat_history_df[this_mask]['name'].unique()\n",
    "\n",
    "diff = [x for x in this_cats if x not in last_cats]\n",
    "print(diff) "
   ]
  },
  {
   "attachments": {},
   "cell_type": "markdown",
   "metadata": {},
   "source": [
    "### Testing Foster List Data Collection"
   ]
  },
  {
   "cell_type": "code",
   "execution_count": 62,
   "metadata": {},
   "outputs": [],
   "source": [
    "import sys\n",
    "sys.path.insert(1, '../src')\n",
    "from cafe_cats import *\n",
    "from foster_cats import *\n",
    "import re\n",
    "from utilities import *"
   ]
  },
  {
   "attachments": {},
   "cell_type": "markdown",
   "metadata": {},
   "source": [
    "### Create old and New Files"
   ]
  },
  {
   "cell_type": "code",
   "execution_count": 166,
   "metadata": {},
   "outputs": [],
   "source": [
    "df = getFosterInfo()"
   ]
  },
  {
   "cell_type": "code",
   "execution_count": 108,
   "metadata": {},
   "outputs": [],
   "source": [
    "#make copy for edits\n",
    "new_df = df.copy()\n",
    "\n",
    "#changes to fields in existing rows\n",
    "new_df.loc[3, 'cat_summary'] = 'test test test'\n",
    "new_df.loc[7, 'cat_description'] = 'test test test'\n",
    "\n",
    "#cat gets reserved\n",
    "new_df.loc[9, 'cat_name'] = new_df.loc[9, 'cat_name'] + ' (reserved)'\n",
    "\n",
    "#cat removed from foster list \n",
    "new_df.drop(12, inplace=True)\n",
    "\n",
    "#cat added to list \n",
    "new_row = {\n",
    "    'cat_id':['test-cat'],\n",
    "    'cat_name':['test cat'],\n",
    "    'cat_summary':['test'],\n",
    "    'cat_timing':['test'],\n",
    "    'cat_description':['test'],\n",
    "    'cat_image':['test'],\n",
    "    'cat_link':['test'],\n",
    "    'import_at':[datetime.fromtimestamp(int(time.time()), tz=pytz.utc)]\n",
    "}\n",
    "new_row_df = pd.DataFrame(new_row)\n",
    "new_df = pd.concat([new_df, new_row_df])\n"
   ]
  },
  {
   "cell_type": "code",
   "execution_count": 109,
   "metadata": {},
   "outputs": [],
   "source": [
    "new_df.to_csv('../output/foster_cats_test_new.csv', index=False)"
   ]
  },
  {
   "attachments": {},
   "cell_type": "markdown",
   "metadata": {},
   "source": [
    "### Compare Files"
   ]
  },
  {
   "cell_type": "code",
   "execution_count": 73,
   "metadata": {},
   "outputs": [],
   "source": [
    "old_df = pd.read_csv('../output/foster_cats_test_old.csv')\n",
    "new_df = pd.read_csv('../output/foster_cats_test_new.csv')"
   ]
  },
  {
   "cell_type": "code",
   "execution_count": 160,
   "metadata": {},
   "outputs": [],
   "source": [
    "# merge dfs and compare\n",
    "compare_df = pd.merge(old_df, new_df, how='outer', on='cat_id', suffixes=['_old','_new'])\n",
    "loop_cols = [t for t in old_df.columns if 'cat_id' not in t and 'import_at' not in t]\n",
    "\n",
    "for col in loop_cols:\n",
    "    col_compare_df = compare_df[[c for c in compare_df.columns if col in c]]\n",
    "    compare_df[f'was_{col}_modified'] = (col_compare_df[f'{col}_old'] != col_compare_df[f'{col}_new'])\n",
    "\n",
    "# discard rows where nothing was changed\n",
    "compare_df['was_modified'] = compare_df[[col for col in compare_df.columns \\\n",
    "                                        if 'was_' in col]].any(axis=1)\n",
    "compare_df = compare_df[compare_df['was_modified'] == True]\n",
    "\n",
    "# distinguish adds, deletions, modifications\n",
    "def determine_change(old_val, new_val):\n",
    "    if pd.isnull(old_val):\n",
    "        return 'row_added'\n",
    "    elif pd.isnull(new_val):\n",
    "        return 'row_deleted'\n",
    "    else:\n",
    "        return 'row_modified'\n",
    "\n",
    "compare_df['change_type'] = compare_df.apply(lambda x: determine_change(x['cat_name_old'], x['cat_name_new']), \n",
    "                                             axis=1)"
   ]
  },
  {
   "cell_type": "code",
   "execution_count": 179,
   "metadata": {},
   "outputs": [],
   "source": [
    "change_df = pd.read_csv('../output/foster_change_log.csv')"
   ]
  },
  {
   "cell_type": "code",
   "execution_count": 183,
   "metadata": {},
   "outputs": [
    {
     "name": "stdout",
     "output_type": "stream",
     "text": [
      "new cats added!\n"
     ]
    }
   ],
   "source": [
    "if change_df[change_df['change_type'] == 'row_added'].shape[0] > 0:\n",
    "    print('new cats added!')"
   ]
  },
  {
   "cell_type": "code",
   "execution_count": 194,
   "metadata": {},
   "outputs": [],
   "source": [
    "send_email(df, alert_message='change log test email', sender=my_username, password=my_password)"
   ]
  },
  {
   "cell_type": "code",
   "execution_count": 204,
   "metadata": {},
   "outputs": [],
   "source": [
    "from foster_cats import *"
   ]
  },
  {
   "cell_type": "code",
   "execution_count": 221,
   "metadata": {},
   "outputs": [
    {
     "name": "stdout",
     "output_type": "stream",
     "text": [
      "hi\n"
     ]
    }
   ],
   "source": [
    "# get last run + current run\n",
    "old_fosters_df = pd.read_csv('../src/data/latest_fosters.csv')\n",
    "new_fosters_df = getFosterInfo()\n",
    "\n",
    "# split out html info from current run to avoid clutter in .csv\n",
    "# we only need html for email alerts we might send \n",
    "new_fosters_write_df = new_fosters_df.drop(columns=['full_html'])\n",
    "\n",
    "# save current run as history for next comparison\n",
    "new_fosters_write_df.to_csv('../src/data/latest_fosters.csv', index=False)\n",
    "\n",
    "# compare new and old runs to determine changes\n",
    "changes_df = compareSnapshots(old_fosters_df, new_fosters_write_df)\n",
    "\n",
    "\n",
    "if changes_df.shape[0] > 0:\n",
    "    # logging.info('there have been changes since the last pipeline run')\n",
    "    # logging.info('summary of changes: ')\n",
    "    # logging.info(changes_df['change_type'].value_counts())\n",
    "    \n",
    "    # append changes to change history if it exists\n",
    "    path = '../output/foster_change_log.csv'\n",
    "    if os.path.exists(path):\n",
    "        old_changes_df = pd.read_csv(path)\n",
    "        changes_df = pd.concat([old_changes_df, changes_df])\n",
    "    changes_df.to_csv(path, index=False)\n",
    "    \n",
    "    # if there were rows added, trigger alert\n",
    "\n",
    "else:\n",
    "    # logging.info('no changes since previous pipeline run')\n",
    "    print('hi')"
   ]
  },
  {
   "cell_type": "code",
   "execution_count": 224,
   "metadata": {},
   "outputs": [
    {
     "data": {
      "text/plain": [
       "(221,\n",
       " b'2.0.0 closing connection y12-20020ac8524c000000b003b643951117sm2170934qtn.38 - gsmtp')"
      ]
     },
     "execution_count": 224,
     "metadata": {},
     "output_type": "execute_result"
    }
   ],
   "source": [
    "import smtplib\n",
    "from email.mime.text import MIMEText\n",
    "from configparser import ConfigParser\n",
    "\n",
    "parser = ConfigParser()\n",
    "_ = parser.read('../credentials.cfg')\n",
    "my_username = parser.get('my_email','my_username')\n",
    "my_password = parser.get('my_email','my_password')\n",
    "\n",
    "\n",
    "sender_email = my_username\n",
    "sender_password = my_password\n",
    "recipient_email = my_username\n",
    "subject = f\"{datetime.datetime.now().strftime('%Y-%m-%d %H:%M')}: New foster cat alert! {new_fosters_df.loc[0]['cat_summary']}\"\n",
    "body = f'''\n",
    "    <html>\n",
    "        <body>\n",
    "        <h1> New cat alert! </h1>\n",
    "            {new_fosters_df.loc[0]['full_html']}\n",
    "        </body>\n",
    "    </html>\n",
    "    '''\n",
    "html_message = MIMEText(body, 'html')\n",
    "html_message['Subject'] = subject\n",
    "html_message['From'] = sender_email\n",
    "html_message['To'] = recipient_email\n",
    "\n",
    "server = smtplib.SMTP_SSL('smtp.gmail.com', 465)\n",
    "server.login(sender_email, sender_password)\n",
    "server.sendmail(sender_email, recipient_email, html_message.as_string())\n",
    "server.quit()"
   ]
  },
  {
   "cell_type": "code",
   "execution_count": 199,
   "metadata": {},
   "outputs": [
    {
     "data": {
      "text/plain": [
       "<div class=\"comp-kjevao4x5 YzqVVZ\" id=\"comp-kjevao4x5__61864364-ded1-4b6b-9703-ce7cfb79533b\"><div class=\"MW5IWV\" data-hook=\"bgLayers\" id=\"bgLayers_comp-kjevao4x5\"><div class=\"LWbAav Kv1aVt\" data-testid=\"colorUnderlay\"></div><div class=\"VgO9Yg\" id=\"bgMedia_comp-kjevao4x5\"></div></div><div class=\"\" data-mesh-id=\"comp-kjevao4x5__61864364-ded1-4b6b-9703-ce7cfb79533binlineContent\" data-testid=\"inline-content\"><div data-mesh-id=\"comp-kjevao4x5__61864364-ded1-4b6b-9703-ce7cfb79533binlineContent-gridContainer\" data-testid=\"mesh-container-content\"><div class=\"comp-kjevao535 MazNVa rYiAuL\" id=\"comp-kjevao535__61864364-ded1-4b6b-9703-ce7cfb79533b\" title=\"\n",
       "This sweet mom is so ready for retirement! Living in an Astoria backyard she had at least three litters over the past couple years. She's finally fixed and ready to move on to the good life! Perhaps a bit shy at first but a big fan of pets.\n",
       "\n",
       "** Select Foster Pick Up (Cafe) when scheduling****\"><a class=\"j7pOnl\" data-testid=\"linkElement\" href=\"https://bbawcfosterteam.wixsite.com/cats/avaliblecats/amewlia-earhart\" target=\"_self\"><wow-image class=\"HlRz5e BI8PVQ\" data-bg-effect-name=\"\" data-has-ssr-src=\"\" data-image-info='{\"containerId\":\"comp-kjevao535__61864364-ded1-4b6b-9703-ce7cfb79533b\",\"displayMode\":\"fill\",\"targetWidth\":551,\"targetHeight\":440,\"isLQIP\":false,\"imageData\":{\"width\":1474,\"height\":1082,\"uri\":\"7f467d_2ec45257ac9740d7bad3f46c24cadbf3~mv2.jpg\",\"name\":\"Image-empty-state.png\",\"displayMode\":\"fill\"}}' id=\"img_comp-kjevao535__61864364-ded1-4b6b-9703-ce7cfb79533b\"><img alt=\"Amewlia Earhart\" fetchpriority=\"high\" src=\"https://static.wixstatic.com/media/7f467d_2ec45257ac9740d7bad3f46c24cadbf3~mv2.jpg/v1/fill/w_551,h_440,al_c,q_80,usm_0.66_1.00_0.01,enc_auto/Image-empty-state.jpg\" srcset=\"https://static.wixstatic.com/media/7f467d_2ec45257ac9740d7bad3f46c24cadbf3~mv2.jpg/v1/fill/w_551,h_440,al_c,q_80,usm_0.66_1.00_0.01,enc_auto/Image-empty-state.jpg 1x, https://static.wixstatic.com/media/7f467d_2ec45257ac9740d7bad3f46c24cadbf3~mv2.jpg/v1/fill/w_1102,h_880,al_c,q_85,usm_0.66_1.00_0.01,enc_auto/Image-empty-state.jpg 2x\" style=\"width:551px;height:440px;object-fit:cover\"/></wow-image></a></div><div class=\"hFQZVn comp-kjevao571 wixui-box\" id=\"comp-kjevao571__61864364-ded1-4b6b-9703-ce7cfb79533b\"><div class=\"nTiihL\" data-testid=\"container-bg\"></div><div class=\"\" data-mesh-id=\"comp-kjevao571__61864364-ded1-4b6b-9703-ce7cfb79533binlineContent\" data-testid=\"inline-content\"><div data-mesh-id=\"comp-kjevao571__61864364-ded1-4b6b-9703-ce7cfb79533binlineContent-gridContainer\" data-testid=\"mesh-container-content\"><div class=\"BaOVQ8 tz5f0K comp-kjevao58 wixui-text\" data-testid=\"richTextElement\" id=\"comp-kjevao58__61864364-ded1-4b6b-9703-ce7cfb79533b\"><h4 class=\"font_4\" style=\"font-size:40px;\">Amewlia Earhart</h4></div><div class=\"BaOVQ8 tz5f0K comp-kjevl5nv wixui-text\" data-testid=\"richTextElement\" id=\"comp-kjevl5nv__61864364-ded1-4b6b-9703-ce7cfb79533b\"><p class=\"font_7\" style=\"font-size:17px;\">2 year-old tabby lady</p></div><div class=\"BaOVQ8 tz5f0K comp-kjevrpz5 wixui-text\" data-testid=\"richTextElement\" id=\"comp-kjevrpz5__61864364-ded1-4b6b-9703-ce7cfb79533b\"><p class=\"font_7\" style=\"font-size:17px;\">Ready evening of 3/8 at the cafe</p></div><div class=\"BaOVQ8 tz5f0K comp-kjevao593 wixui-text\" data-testid=\"richTextElement\" id=\"comp-kjevao593__61864364-ded1-4b6b-9703-ce7cfb79533b\"><p class=\"font_8\" style=\"font-size:14px; line-height:1.5em;\"><span style=\"font-size:14px;\"><span style=\"letter-spacing:0em;\"><br/>This sweet mom is so ready for retirement! Living in an Astoria backyard she had at least three litters over the past couple years. She's finally fixed and ready to move on to the good life! Perhaps a bit shy at first but a big fan of pets.<br/><br/>** Select Foster Pick Up (Cafe) when scheduling****</span></span></p></div><div aria-disabled=\"false\" class=\"comp-kjevao5b3 R6ex7N\" id=\"comp-kjevao5b3__61864364-ded1-4b6b-9703-ce7cfb79533b\"><a aria-disabled=\"false\" class=\"kuTaGy zKbzSQ\" data-testid=\"linkElement\" href=\"https://bbawcfosterteam.wixsite.com/cats/avaliblecats/amewlia-earhart\" target=\"_self\"><span class=\"M3I7Z2\">Learn More &gt;&gt;</span></a></div></div></div></div></div></div></div>"
      ]
     },
     "execution_count": 199,
     "metadata": {},
     "output_type": "execute_result"
    }
   ],
   "source": [
    "cats[0]"
   ]
  },
  {
   "cell_type": "code",
   "execution_count": 197,
   "metadata": {},
   "outputs": [
    {
     "ename": "AttributeError",
     "evalue": "module 'datetime' has no attribute 'now'",
     "output_type": "error",
     "traceback": [
      "\u001b[0;31m---------------------------------------------------------------------------\u001b[0m",
      "\u001b[0;31mAttributeError\u001b[0m                            Traceback (most recent call last)",
      "Cell \u001b[0;32mIn[197], line 20\u001b[0m\n\u001b[1;32m     10\u001b[0m body \u001b[39m=\u001b[39m \u001b[39m'''\u001b[39m\n\u001b[1;32m     11\u001b[0m \u001b[39m    <html>\u001b[39m\n\u001b[1;32m     12\u001b[0m \u001b[39m        <body>\u001b[39m\n\u001b[0;32m   (...)\u001b[0m\n\u001b[1;32m     16\u001b[0m \u001b[39m    </html>\u001b[39m\n\u001b[1;32m     17\u001b[0m \u001b[39m    \u001b[39m\u001b[39m'''\u001b[39m\n\u001b[1;32m     19\u001b[0m \u001b[39m# Generate today's date to be included in the email Subject\u001b[39;00m\n\u001b[0;32m---> 20\u001b[0m date_str \u001b[39m=\u001b[39m \u001b[39mstr\u001b[39m(datetime\u001b[39m.\u001b[39;49mnow())\n\u001b[1;32m     22\u001b[0m \u001b[39m# Create a MIMEMultipart class, and set up the From, To, Subject fields\u001b[39;00m\n\u001b[1;32m     23\u001b[0m email_message \u001b[39m=\u001b[39m MIMEMultipart()\n",
      "\u001b[0;31mAttributeError\u001b[0m: module 'datetime' has no attribute 'now'"
     ]
    }
   ],
   "source": [
    "from configparser import ConfigParser\n",
    "import ssl\n",
    "\n",
    "parser = ConfigParser()\n",
    "_ = parser.read('../credentials.cfg')\n",
    "my_username = parser.get('my_email','my_username')\n",
    "my_password = parser.get('my_email','my_password')\n",
    "\n",
    "# Define the HTML document\n",
    "body = '''\n",
    "    <html>\n",
    "        <body>\n",
    "            <h1>Daily S&P 500 prices report</h1>\n",
    "            <p>Hello, welcome to your report!</p>\n",
    "        </body>\n",
    "    </html>\n",
    "    '''\n",
    "\n",
    "# Generate today's date to be included in the email Subject\n",
    "date_str = str(datetime.datetime.now())\n",
    "\n",
    "# Create a MIMEMultipart class, and set up the From, To, Subject fields\n",
    "email_message = MIMEMultipart()\n",
    "email_message['From'] = my_username\n",
    "email_message['To'] = my_username\n",
    "email_message['Subject'] = f'Report email - {date_str}'\n",
    "\n",
    "# Attach the html doc defined earlier, as a MIMEText html content type to the MIME message\n",
    "email_message.attach(MIMEText(html, \"html\"))\n",
    "# Convert it as a string\n",
    "email_string = email_message.as_string()\n",
    "\n",
    "# Connect to the Gmail SMTP server and Send Email\n",
    "context = ssl.create_default_context()\n",
    "with smtplib.SMTP_SSL(\"smtp.gmail.com\", 465, context=context) as server:\n",
    "    server.login(my_username, my_password)\n",
    "    server.sendmail(my_username, my_password, email_string)"
   ]
  },
  {
   "cell_type": "code",
   "execution_count": null,
   "metadata": {},
   "outputs": [],
   "source": []
  },
  {
   "cell_type": "code",
   "execution_count": null,
   "metadata": {},
   "outputs": [],
   "source": []
  },
  {
   "attachments": {},
   "cell_type": "markdown",
   "metadata": {},
   "source": [
    "# Appendix (Scratch)"
   ]
  },
  {
   "cell_type": "code",
   "execution_count": null,
   "metadata": {},
   "outputs": [],
   "source": [
    "### first go to individual cat page and you can get the attributes via the below:\n",
    "\n",
    "cafe_prospect = cat_soup.find('div', class_='comp-kjevammt2 YzqVVZ')\n",
    "\n",
    "\n",
    "health_concerns = cat_soup.find('div', class_='comp-kjevamml YzqVVZ')\n",
    "\n",
    "\n",
    "upcoming_appointments = cat_soup.find('div', class_='comp-kjevammp3 YzqVVZ')\n",
    "\n"
   ]
  }
 ],
 "metadata": {
  "kernelspec": {
   "display_name": "Python 3 (ipykernel)",
   "language": "python",
   "name": "python3"
  },
  "language_info": {
   "codemirror_mode": {
    "name": "ipython",
    "version": 3
   },
   "file_extension": ".py",
   "mimetype": "text/x-python",
   "name": "python",
   "nbconvert_exporter": "python",
   "pygments_lexer": "ipython3",
   "version": "3.10.8"
  },
  "vscode": {
   "interpreter": {
    "hash": "77dcab992c8848edfe732ffcf1ac6265e3ffed20d0d82e3175eeb9ff4576bd0a"
   }
  }
 },
 "nbformat": 4,
 "nbformat_minor": 4
}
