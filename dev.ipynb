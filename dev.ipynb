{
 "cells": [
  {
   "cell_type": "code",
   "execution_count": null,
   "metadata": {},
   "outputs": [],
   "source": [
    "import pandas as pd\n",
    "import numpy as np \n",
    "from bs4 import BeautifulSoup\n",
    "import requests\n",
    "from datetime import datetime \n",
    "import time\n",
    "import pytz\n",
    "import os"
   ]
  },
  {
   "cell_type": "code",
   "execution_count": 27,
   "metadata": {},
   "outputs": [],
   "source": [
    "cat_history_df = pd.read_csv('cat_history.csv')"
   ]
  },
  {
   "cell_type": "code",
   "execution_count": 28,
   "metadata": {},
   "outputs": [
    {
     "data": {
      "text/html": [
       "<div>\n",
       "<style scoped>\n",
       "    .dataframe tbody tr th:only-of-type {\n",
       "        vertical-align: middle;\n",
       "    }\n",
       "\n",
       "    .dataframe tbody tr th {\n",
       "        vertical-align: top;\n",
       "    }\n",
       "\n",
       "    .dataframe thead th {\n",
       "        text-align: right;\n",
       "    }\n",
       "</style>\n",
       "<table border=\"1\" class=\"dataframe\">\n",
       "  <thead>\n",
       "    <tr style=\"text-align: right;\">\n",
       "      <th></th>\n",
       "      <th>Unnamed: 0.2</th>\n",
       "      <th>Unnamed: 0.1</th>\n",
       "      <th>Unnamed: 0</th>\n",
       "      <th>id</th>\n",
       "      <th>url</th>\n",
       "      <th>name</th>\n",
       "      <th>age</th>\n",
       "      <th>gender</th>\n",
       "      <th>cafe_cat</th>\n",
       "      <th>kid_approved</th>\n",
       "      <th>dog_approved</th>\n",
       "      <th>companion_cat</th>\n",
       "      <th>bonded_pair</th>\n",
       "      <th>single_cat</th>\n",
       "      <th>type</th>\n",
       "      <th>description</th>\n",
       "      <th>system_import_at</th>\n",
       "    </tr>\n",
       "  </thead>\n",
       "  <tbody>\n",
       "    <tr>\n",
       "      <th>0</th>\n",
       "      <td>0</td>\n",
       "      <td>0.0</td>\n",
       "      <td>0.0</td>\n",
       "      <td>18576198</td>\n",
       "      <td>https://catcafebk.com/our-cats/?cat=18576198</td>\n",
       "      <td>Aeon</td>\n",
       "      <td>10 Years 5 Months</td>\n",
       "      <td>Female</td>\n",
       "      <td>False</td>\n",
       "      <td>False</td>\n",
       "      <td>False</td>\n",
       "      <td>True</td>\n",
       "      <td>False</td>\n",
       "      <td>True</td>\n",
       "      <td>Domestic Short Hair</td>\n",
       "      <td>Aeon is a gorgeous, chatty tortie girl with a ...</td>\n",
       "      <td>2023-01-22 19:13:48+00:00</td>\n",
       "    </tr>\n",
       "    <tr>\n",
       "      <th>1</th>\n",
       "      <td>1</td>\n",
       "      <td>1.0</td>\n",
       "      <td>1.0</td>\n",
       "      <td>18949108</td>\n",
       "      <td>https://catcafebk.com/our-cats/?cat=18949108</td>\n",
       "      <td>Aioli &amp; Dijon</td>\n",
       "      <td>4 Months 3 Days</td>\n",
       "      <td>NaN</td>\n",
       "      <td>False</td>\n",
       "      <td>True</td>\n",
       "      <td>True</td>\n",
       "      <td>False</td>\n",
       "      <td>True</td>\n",
       "      <td>False</td>\n",
       "      <td>Domestic Short Hair</td>\n",
       "      <td>Aioli &amp; Dijon are full of zest and zing — whet...</td>\n",
       "      <td>2023-01-22 19:13:48+00:00</td>\n",
       "    </tr>\n",
       "    <tr>\n",
       "      <th>2</th>\n",
       "      <td>2</td>\n",
       "      <td>2.0</td>\n",
       "      <td>2.0</td>\n",
       "      <td>18049093</td>\n",
       "      <td>https://catcafebk.com/our-cats/?cat=18049093</td>\n",
       "      <td>Apollo &amp; Artemis</td>\n",
       "      <td>1 Year 1 Month</td>\n",
       "      <td>NaN</td>\n",
       "      <td>False</td>\n",
       "      <td>True</td>\n",
       "      <td>True</td>\n",
       "      <td>False</td>\n",
       "      <td>True</td>\n",
       "      <td>False</td>\n",
       "      <td>Domestic Short Hair / Mixed</td>\n",
       "      <td>Apollo and Artemis are sweet and sassy teens r...</td>\n",
       "      <td>2023-01-22 19:13:48+00:00</td>\n",
       "    </tr>\n",
       "    <tr>\n",
       "      <th>3</th>\n",
       "      <td>3</td>\n",
       "      <td>3.0</td>\n",
       "      <td>3.0</td>\n",
       "      <td>18844592</td>\n",
       "      <td>https://catcafebk.com/our-cats/?cat=18844592</td>\n",
       "      <td>Baby Shark</td>\n",
       "      <td>9 Months 7 Days</td>\n",
       "      <td>Female</td>\n",
       "      <td>False</td>\n",
       "      <td>False</td>\n",
       "      <td>False</td>\n",
       "      <td>False</td>\n",
       "      <td>False</td>\n",
       "      <td>False</td>\n",
       "      <td>Domestic Short Hair</td>\n",
       "      <td>Baby Shark is a sweet tuxedo who likes taking ...</td>\n",
       "      <td>2023-01-22 19:13:48+00:00</td>\n",
       "    </tr>\n",
       "    <tr>\n",
       "      <th>4</th>\n",
       "      <td>4</td>\n",
       "      <td>4.0</td>\n",
       "      <td>4.0</td>\n",
       "      <td>18949086</td>\n",
       "      <td>https://catcafebk.com/our-cats/?cat=18949086</td>\n",
       "      <td>Bada &amp; Pow</td>\n",
       "      <td>4 Months 19 Days</td>\n",
       "      <td>Male</td>\n",
       "      <td>False</td>\n",
       "      <td>True</td>\n",
       "      <td>True</td>\n",
       "      <td>False</td>\n",
       "      <td>True</td>\n",
       "      <td>False</td>\n",
       "      <td>Domestic Short Hair</td>\n",
       "      <td>Bada and Pow are two adorable, playful brother...</td>\n",
       "      <td>2023-01-22 19:13:48+00:00</td>\n",
       "    </tr>\n",
       "  </tbody>\n",
       "</table>\n",
       "</div>"
      ],
      "text/plain": [
       "   Unnamed: 0.2  Unnamed: 0.1  Unnamed: 0        id  \\\n",
       "0             0           0.0         0.0  18576198   \n",
       "1             1           1.0         1.0  18949108   \n",
       "2             2           2.0         2.0  18049093   \n",
       "3             3           3.0         3.0  18844592   \n",
       "4             4           4.0         4.0  18949086   \n",
       "\n",
       "                                            url              name  \\\n",
       "0  https://catcafebk.com/our-cats/?cat=18576198              Aeon   \n",
       "1  https://catcafebk.com/our-cats/?cat=18949108     Aioli & Dijon   \n",
       "2  https://catcafebk.com/our-cats/?cat=18049093  Apollo & Artemis   \n",
       "3  https://catcafebk.com/our-cats/?cat=18844592        Baby Shark   \n",
       "4  https://catcafebk.com/our-cats/?cat=18949086        Bada & Pow   \n",
       "\n",
       "                  age   gender  cafe_cat  kid_approved  dog_approved  \\\n",
       "0  10 Years 5 Months    Female     False         False         False   \n",
       "1    4 Months 3 Days       NaN     False          True          True   \n",
       "2     1 Year 1 Month       NaN     False          True          True   \n",
       "3    9 Months 7 Days    Female     False         False         False   \n",
       "4   4 Months 19 Days      Male     False          True          True   \n",
       "\n",
       "   companion_cat  bonded_pair  single_cat                          type  \\\n",
       "0           True        False        True          Domestic Short Hair    \n",
       "1          False         True       False          Domestic Short Hair    \n",
       "2          False         True       False  Domestic Short Hair / Mixed    \n",
       "3          False        False       False          Domestic Short Hair    \n",
       "4          False         True       False          Domestic Short Hair    \n",
       "\n",
       "                                         description  \\\n",
       "0  Aeon is a gorgeous, chatty tortie girl with a ...   \n",
       "1  Aioli & Dijon are full of zest and zing — whet...   \n",
       "2  Apollo and Artemis are sweet and sassy teens r...   \n",
       "3  Baby Shark is a sweet tuxedo who likes taking ...   \n",
       "4  Bada and Pow are two adorable, playful brother...   \n",
       "\n",
       "            system_import_at  \n",
       "0  2023-01-22 19:13:48+00:00  \n",
       "1  2023-01-22 19:13:48+00:00  \n",
       "2  2023-01-22 19:13:48+00:00  \n",
       "3  2023-01-22 19:13:48+00:00  \n",
       "4  2023-01-22 19:13:48+00:00  "
      ]
     },
     "execution_count": 28,
     "metadata": {},
     "output_type": "execute_result"
    }
   ],
   "source": [
    "cat_history_df.head()"
   ]
  },
  {
   "cell_type": "code",
   "execution_count": 29,
   "metadata": {},
   "outputs": [
    {
     "data": {
      "text/plain": [
       "array(['2023-01-22 19:13:48+00:00', '2023-01-22 19:49:42+00:00',\n",
       "       '2023-01-22 19:51:39+00:00'], dtype=object)"
      ]
     },
     "execution_count": 29,
     "metadata": {},
     "output_type": "execute_result"
    }
   ],
   "source": [
    "cat_history_df.system_import_at.unique()"
   ]
  },
  {
   "cell_type": "code",
   "execution_count": 30,
   "metadata": {},
   "outputs": [
    {
     "data": {
      "text/plain": [
       "(352, 17)"
      ]
     },
     "execution_count": 30,
     "metadata": {},
     "output_type": "execute_result"
    }
   ],
   "source": [
    "cat_history_df.shape"
   ]
  },
  {
   "cell_type": "code",
   "execution_count": 32,
   "metadata": {},
   "outputs": [],
   "source": [
    "last_mask = (cat_history_df['system_import_at'] == '2023-01-22 19:49:42+00:00')\n",
    "this_mask = (cat_history_df['system_import_at'] == '2023-01-22 19:51:39+00:00')"
   ]
  },
  {
   "cell_type": "code",
   "execution_count": 37,
   "metadata": {},
   "outputs": [
    {
     "name": "stdout",
     "output_type": "stream",
     "text": [
      "['Ernutter & Andolf']\n"
     ]
    }
   ],
   "source": [
    "last_cats = cat_history_df[last_mask]['name'].unique()\n",
    "this_cats = cat_history_df[this_mask]['name'].unique()\n",
    "\n",
    "diff = [x for x in this_cats if x not in last_cats]\n",
    "print(diff) "
   ]
  }
 ],
 "metadata": {
  "kernelspec": {
   "display_name": "Python 3 (ipykernel)",
   "language": "python",
   "name": "python3"
  },
  "language_info": {
   "codemirror_mode": {
    "name": "ipython",
    "version": 3
   },
   "file_extension": ".py",
   "mimetype": "text/x-python",
   "name": "python",
   "nbconvert_exporter": "python",
   "pygments_lexer": "ipython3",
   "version": "3.10.8"
  },
  "vscode": {
   "interpreter": {
    "hash": "77dcab992c8848edfe732ffcf1ac6265e3ffed20d0d82e3175eeb9ff4576bd0a"
   }
  }
 },
 "nbformat": 4,
 "nbformat_minor": 4
}
